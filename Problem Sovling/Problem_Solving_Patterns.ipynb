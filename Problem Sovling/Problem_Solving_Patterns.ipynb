{
  "nbformat": 4,
  "nbformat_minor": 0,
  "metadata": {
    "colab": {
      "name": "Problem Solving Patterns.ipynb",
      "provenance": [],
      "collapsed_sections": []
    },
    "kernelspec": {
      "name": "python3",
      "display_name": "Python 3"
    },
    "language_info": {
      "name": "python"
    }
  },
  "cells": [
    {
      "cell_type": "markdown",
      "metadata": {
        "id": "7TRuMHDmZAR7"
      },
      "source": [
        "# Frequency Counter Pattern\n",
        "## Step 1 Understand the Problem\n",
        "What do I need to do\n",
        "- compare 2 arrays to see if the squared results of the first are within the second. frequencies must be the same then return true, otherwise false\n",
        "\n",
        "\n",
        "\n",
        "## Step 2  Concrete Examples\n",
        "- [1, 2, 3], [1, 9, 4] true\n",
        "- [1, 2, 1], [4, 1] false\n",
        "\n",
        "## Step 3 Break it Down\n",
        "### Input(s)\n",
        "- 2 numeric arrays\n",
        "\n",
        "###Special cases to watch for\n",
        "- blank arrays\n",
        "- alpha/alphanumeric arrays (would these be considered if they met conditions?\n",
        "\n",
        "### Output(s)\n",
        "- True/False"
      ]
    },
    {
      "cell_type": "code",
      "metadata": {
        "id": "mT64ew7TZWLw"
      },
      "source": [
        "\n",
        "def same(num1,num2):\n",
        "  '''\n",
        "      num1:List[int]\n",
        "      num2:List[int]\n",
        "      returns TRUE/FAlSE\n",
        "\n",
        "      Takes two arrays compares the length\n",
        "      creates a frequency dictionary counter of both\n",
        "      and returns true or false \n",
        "      depending upon if the square of array one is within array 2 \n",
        "      (the dictionaries are not the same)\n",
        "  '''\n",
        "  conditions = [num1,\n",
        "                num2]\n",
        "\n",
        "  #compare lengths\n",
        "  if len(num1) != len(num2) or not all(conditions):\n",
        "    return False\n",
        "  \n",
        "  num1 = list(map(lambda x: x ** 2,num1))\n",
        "  val1 = {}\n",
        "  val2 = {}\n",
        "  \n",
        "  # create a frequency counter dictionary\n",
        "  for i in num1:\n",
        "    val1[i] = num1.count(i)\n",
        "    val2[i] = num2.count(i)\n",
        "  return val1 == val2\n",
        "  #compare dictionaries with counts in list"
      ],
      "execution_count": 32,
      "outputs": []
    },
    {
      "cell_type": "code",
      "metadata": {
        "colab": {
          "base_uri": "https://localhost:8080/"
        },
        "id": "egRPIudK3ikM",
        "outputId": "0f6e92b0-1761-4f52-8a10-662dbcdb64e4"
      },
      "source": [
        "same([1, 2, 3], [4, 1, 9])"
      ],
      "execution_count": 33,
      "outputs": [
        {
          "output_type": "execute_result",
          "data": {
            "text/plain": [
              "True"
            ]
          },
          "metadata": {
            "tags": []
          },
          "execution_count": 33
        }
      ]
    },
    {
      "cell_type": "code",
      "metadata": {
        "colab": {
          "base_uri": "https://localhost:8080/"
        },
        "id": "10xjTHIvAE_d",
        "outputId": "17aac4c4-56a0-4249-869b-4003080ec60b"
      },
      "source": [
        "same([1, 2, 3],[1, 9])"
      ],
      "execution_count": 34,
      "outputs": [
        {
          "output_type": "execute_result",
          "data": {
            "text/plain": [
              "False"
            ]
          },
          "metadata": {
            "tags": []
          },
          "execution_count": 34
        }
      ]
    },
    {
      "cell_type": "code",
      "metadata": {
        "colab": {
          "base_uri": "https://localhost:8080/"
        },
        "id": "488xwSR1CC_K",
        "outputId": "1bc32a34-c06a-4eb8-96fe-54343d38af69"
      },
      "source": [
        "same([1, 2, 1],[4, 4, 1])"
      ],
      "execution_count": 35,
      "outputs": [
        {
          "output_type": "execute_result",
          "data": {
            "text/plain": [
              "False"
            ]
          },
          "metadata": {
            "tags": []
          },
          "execution_count": 35
        }
      ]
    },
    {
      "cell_type": "markdown",
      "metadata": {
        "id": "O1P8EJ2kCcdO"
      },
      "source": [
        "# Anagrams\n",
        "## Understand the Problem\n",
        "What needs to be done\n",
        "- Check to see that the frequencies and lengths of two strings are equal\n",
        "\n",
        "## Concrete Examples\n",
        "- ' ', ' '  true\n",
        "- 'aaz','zza' false\n",
        "- 'anagram, 'nagaram' true\n",
        "- \"rat\", \"car\" false\n",
        "- 'awesome','awesom' false\n",
        "- 'qwerty','qeywrt' true\n",
        "\n",
        "## Break it Down\n",
        "- takes 2 strings as inputs\n",
        "- outputs true/false\n",
        "\n",
        "### Special Cases\n",
        "- uppercase strings\n",
        "- alphanumeric \n",
        "- numeric\n",
        "\n",
        "## Solve or Simplify\n",
        "\n",
        "\n",
        "\n"
      ]
    },
    {
      "cell_type": "code",
      "metadata": {
        "id": "ZVZM0n85O9rO"
      },
      "source": [
        "def validAnagram(str1, str2):\n",
        "  '''\n",
        "    str1: string\n",
        "    str2: string\n",
        "    return true/false\n",
        "\n",
        "    compares frequency counts of two strings to verify if \n",
        "    they are anagrams (true) or not(false)\n",
        "\n",
        "  '''\n",
        "  conditions = [str1.isalpha(),\n",
        "                str2.isalpha()]\n",
        "  wrd1 = {}\n",
        "  wrd2 = {}\n",
        "  if len(str1) != len(str2) or not all(conditions):\n",
        "    return False\n",
        "  str1,str2 = list(str1.lower()),list(str2.lower())  \n",
        "  for i in str1:\n",
        "    wrd1[i] = str1.count(i)\n",
        "    wrd2[i] = str2.count(i)\n",
        "  return wrd1 == wrd2"
      ],
      "execution_count": 74,
      "outputs": []
    },
    {
      "cell_type": "code",
      "metadata": {
        "colab": {
          "base_uri": "https://localhost:8080/"
        },
        "id": "oPIqlspuUnzo",
        "outputId": "1cf41d17-2fab-4591-8e93-269871480188"
      },
      "source": [
        "validAnagram('qwerty','qeywrt')"
      ],
      "execution_count": 75,
      "outputs": [
        {
          "output_type": "execute_result",
          "data": {
            "text/plain": [
              "True"
            ]
          },
          "metadata": {
            "tags": []
          },
          "execution_count": 75
        }
      ]
    },
    {
      "cell_type": "code",
      "metadata": {
        "colab": {
          "base_uri": "https://localhost:8080/"
        },
        "id": "uhrP7SYwUvC2",
        "outputId": "fcfa9662-f2e4-4b53-df36-18f43788c14d"
      },
      "source": [
        "validAnagram('awesome','awesom')"
      ],
      "execution_count": 76,
      "outputs": [
        {
          "output_type": "execute_result",
          "data": {
            "text/plain": [
              "False"
            ]
          },
          "metadata": {
            "tags": []
          },
          "execution_count": 76
        }
      ]
    },
    {
      "cell_type": "code",
      "metadata": {
        "colab": {
          "base_uri": "https://localhost:8080/"
        },
        "id": "-RxYObXVVPS2",
        "outputId": "d677761f-da85-4bef-af70-e5f073c4dd01"
      },
      "source": [
        "validAnagram('anagram', 'nAgaram')"
      ],
      "execution_count": 77,
      "outputs": [
        {
          "output_type": "execute_result",
          "data": {
            "text/plain": [
              "True"
            ]
          },
          "metadata": {
            "tags": []
          },
          "execution_count": 77
        }
      ]
    },
    {
      "cell_type": "markdown",
      "metadata": {
        "id": "1NhM6DkoXZl4"
      },
      "source": [
        "#Multiple Pointers Pattern\n",
        "## Understand the Ask\n",
        "Return the two values (pair) that sum to equal zero\n",
        "Values from a sorted list and the pairs should be the first pair to sum to zero.\n",
        "\n",
        "## Concrete Examples\n",
        "\n",
        "## Break it Down\n",
        "Input\n",
        "- list of numbers (sorted?)\n",
        "Output \n",
        "- pair of values that sum to zero (list or tuple?)\n",
        "- values should be recipricals "
      ]
    },
    {
      "cell_type": "code",
      "metadata": {
        "id": "f7EG2JaiecAv"
      },
      "source": [
        "# An if statement that decrements and increments two indices to cycle accross a list"
      ],
      "execution_count": 78,
      "outputs": []
    },
    {
      "cell_type": "code",
      "metadata": {
        "id": "6VYK_pUBekKW"
      },
      "source": [
        ""
      ],
      "execution_count": null,
      "outputs": []
    }
  ]
}