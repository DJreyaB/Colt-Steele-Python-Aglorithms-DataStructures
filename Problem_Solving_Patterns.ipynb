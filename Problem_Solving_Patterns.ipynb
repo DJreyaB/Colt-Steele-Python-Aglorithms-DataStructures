{
  "nbformat": 4,
  "nbformat_minor": 0,
  "metadata": {
    "colab": {
      "name": "Problem Solving Patterns.ipynb",
      "provenance": [],
      "collapsed_sections": []
    },
    "kernelspec": {
      "name": "python3",
      "display_name": "Python 3"
    },
    "language_info": {
      "name": "python"
    }
  },
  "cells": [
    {
      "cell_type": "markdown",
      "metadata": {
        "id": "7TRuMHDmZAR7"
      },
      "source": [
        "# Frequency Counter Pattern\n",
        "## Step 1 Understand the Problem\n",
        "What do I need to do\n",
        "- Compare 2 arrays to see if the squared results of the first are within the second. frequencies must be the same then return true, otherwise false\n",
        "\n",
        "\n",
        "\n",
        "## Step 2  Concrete Examples\n",
        "- [1, 2, 3], [1, 9, 4] true\n",
        "- [1, 2, 1], [4, 1] false\n",
        "\n",
        "## Step 3 Break it Down\n",
        "### Input(s)\n",
        "- 2 numeric arrays\n",
        "\n",
        "###Special cases to watch for\n",
        "- blank arrays\n",
        "- alpha/alphanumeric arrays (would these be considered if they met conditions?\n",
        "\n",
        "### Output(s)\n",
        "- True/False"
      ]
    },
    {
      "cell_type": "code",
      "metadata": {
        "id": "mT64ew7TZWLw"
      },
      "source": [
        "\n",
        "def same(num1,num2):\n",
        "  '''\n",
        "      num1:List[int]\n",
        "      num2:List[int]\n",
        "      returns TRUE/FAlSE\n",
        "\n",
        "      Takes two arrays compares the length\n",
        "      creates a frequency dictionary counter of both\n",
        "      and returns true or false \n",
        "      depending upon if the square of array one is within array 2 \n",
        "      (the dictionaries are not the same)\n",
        "  '''\n",
        "  conditions = [num1,\n",
        "                num2]\n",
        "\n",
        "  #compare lengths\n",
        "  if len(num1) != len(num2) or not all(conditions):\n",
        "    return False\n",
        "  \n",
        "  num1 = list(map(lambda x: x ** 2,num1))\n",
        "  val1 = {}\n",
        "  val2 = {}\n",
        "  \n",
        "  # create a frequency counter dictionary\n",
        "  for i in num1:\n",
        "    val1[i] = num1.count(i)\n",
        "    val2[i] = num2.count(i)\n",
        "  return val1 == val2\n",
        "  #compare dictionaries with counts in list"
      ],
      "execution_count": 32,
      "outputs": []
    },
    {
      "cell_type": "code",
      "metadata": {
        "colab": {
          "base_uri": "https://localhost:8080/"
        },
        "id": "egRPIudK3ikM",
        "outputId": "0f6e92b0-1761-4f52-8a10-662dbcdb64e4"
      },
      "source": [
        "same([1, 2, 3], [4, 1, 9])"
      ],
      "execution_count": 33,
      "outputs": [
        {
          "output_type": "execute_result",
          "data": {
            "text/plain": [
              "True"
            ]
          },
          "metadata": {
            "tags": []
          },
          "execution_count": 33
        }
      ]
    },
    {
      "cell_type": "code",
      "metadata": {
        "colab": {
          "base_uri": "https://localhost:8080/"
        },
        "id": "10xjTHIvAE_d",
        "outputId": "17aac4c4-56a0-4249-869b-4003080ec60b"
      },
      "source": [
        "same([1, 2, 3],[1, 9])"
      ],
      "execution_count": 34,
      "outputs": [
        {
          "output_type": "execute_result",
          "data": {
            "text/plain": [
              "False"
            ]
          },
          "metadata": {
            "tags": []
          },
          "execution_count": 34
        }
      ]
    },
    {
      "cell_type": "code",
      "metadata": {
        "colab": {
          "base_uri": "https://localhost:8080/"
        },
        "id": "488xwSR1CC_K",
        "outputId": "1bc32a34-c06a-4eb8-96fe-54343d38af69"
      },
      "source": [
        "same([1, 2, 1],[4, 4, 1])"
      ],
      "execution_count": 35,
      "outputs": [
        {
          "output_type": "execute_result",
          "data": {
            "text/plain": [
              "False"
            ]
          },
          "metadata": {
            "tags": []
          },
          "execution_count": 35
        }
      ]
    },
    {
      "cell_type": "code",
      "metadata": {
        "id": "O1P8EJ2kCcdO"
      },
      "source": [
        ""
      ],
      "execution_count": null,
      "outputs": []
    }
  ]
}
