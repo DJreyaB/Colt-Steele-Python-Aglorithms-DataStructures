{
 "cells": [
  {
   "cell_type": "code",
   "execution_count": 1,
   "source": [
    "class Node:\r\n",
    "    def __init__(self, val):\r\n",
    "        self.val = val\r\n",
    "        self.next = None\r\n"
   ],
   "outputs": [],
   "metadata": {}
  },
  {
   "cell_type": "code",
   "execution_count": 15,
   "source": [
    "first = Node('Hi!')\r\n",
    "first.next = Node('there')\r\n",
    "first.next.next = Node('how')\r\n",
    "first.next.next.next = Node('are')\r\n",
    "first.next.next.next.next = Node('you')"
   ],
   "outputs": [],
   "metadata": {}
  },
  {
   "cell_type": "code",
   "execution_count": 27,
   "source": [
    "class SinglyLinkedList:\r\n",
    "    def __init__(self) -> None:\r\n",
    "        self.head = None\r\n",
    "        self.tail = None\r\n",
    "        self.length = 0\r\n",
    "\r\n",
    "\r\n",
    "    def push(self, val):\r\n",
    "        '''\r\n",
    "        Description:\r\n",
    "            Appends a user aspecified value to the end of the linked list.\r\n",
    "            Increases length.\r\n",
    "\r\n",
    "        Arguments:\r\n",
    "            val: user specified value\r\n",
    "\r\n",
    "        Return:\r\n",
    "            linked list object\r\n",
    "        '''\r\n",
    "        newNode = Node(val)\r\n",
    "        if not self.head :\r\n",
    "            self.head = newNode\r\n",
    "            self.tail = newNode\r\n",
    "        else:\r\n",
    "            self.tail.next = newNode\r\n",
    "            self.tail = newNode\r\n",
    "        \r\n",
    "        self.length += 1\r\n",
    "        return self\r\n"
   ],
   "outputs": [],
   "metadata": {}
  },
  {
   "cell_type": "code",
   "execution_count": 34,
   "source": [
    "singly = SinglyLinkedList()\r\n",
    "singly.push('Hi')"
   ],
   "outputs": [
    {
     "output_type": "execute_result",
     "data": {
      "text/plain": [
       "<__main__.SinglyLinkedList at 0x2e61586adf0>"
      ]
     },
     "metadata": {},
     "execution_count": 34
    }
   ],
   "metadata": {}
  },
  {
   "cell_type": "code",
   "execution_count": 33,
   "source": [
    "print(vars(singly.tail))"
   ],
   "outputs": [
    {
     "output_type": "stream",
     "name": "stdout",
     "text": [
      "{'val': 'Hi', 'next': None}\n"
     ]
    }
   ],
   "metadata": {}
  },
  {
   "cell_type": "code",
   "execution_count": null,
   "source": [],
   "outputs": [],
   "metadata": {}
  }
 ],
 "metadata": {
  "orig_nbformat": 4,
  "language_info": {
   "name": "python",
   "version": "3.9.7",
   "mimetype": "text/x-python",
   "codemirror_mode": {
    "name": "ipython",
    "version": 3
   },
   "pygments_lexer": "ipython3",
   "nbconvert_exporter": "python",
   "file_extension": ".py"
  },
  "kernelspec": {
   "name": "python3",
   "display_name": "Python 3.9.7 64-bit (windows store)"
  },
  "interpreter": {
   "hash": "fa6cc938ade9412850958d33e126dc3aab531d296da54b31158fe3557911ce43"
  }
 },
 "nbformat": 4,
 "nbformat_minor": 2
}